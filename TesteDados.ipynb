{
  "nbformat": 4,
  "nbformat_minor": 0,
  "metadata": {
    "colab": {
      "name": "TesteDados.ipynb",
      "provenance": [],
      "collapsed_sections": [],
      "authorship_tag": "ABX9TyOxkWsWZaFVbEaj3E2jYI39",
      "include_colab_link": true
    },
    "kernelspec": {
      "name": "python3",
      "display_name": "Python 3"
    },
    "language_info": {
      "name": "python"
    }
  },
  "cells": [
    {
      "cell_type": "markdown",
      "metadata": {
        "id": "view-in-github",
        "colab_type": "text"
      },
      "source": [
        "<a href=\"https://colab.research.google.com/github/llcorrea/TesteDados/blob/main/TesteDados.ipynb\" target=\"_parent\"><img src=\"https://colab.research.google.com/assets/colab-badge.svg\" alt=\"Open In Colab\"/></a>"
      ]
    },
    {
      "cell_type": "markdown",
      "metadata": {
        "id": "PDISriiEXnhy"
      },
      "source": [
        "#**Task description**\n",
        "\n",
        "**Objetivo:**\n",
        "\n",
        "Estimar o tempo em que um pulverizador finaliza uma ordem de serviço ($T_t$). \n",
        "\n",
        "O tempo ($T_t$) se divide em:\n",
        "* Efetivo (E): tempo em que o equipamento encontra-se trabalhando dentro do talhão.\n",
        "* Manobra (M): Tempo em que o equipamento encontra-se indo de uma linha para a próxima.\n",
        "* Deslocamento (D): Tempo em que o equipamento encontra-se deslocando dentro do talhão. (Sem estar em efetivo nem em manobra).\n",
        "* Parada (F): Tempo em que o equipamento encontra-se parado. Isto pode ser por dissimiles motivos: aguardando produto, abastecimento, manutenção.\n",
        "\n",
        "> Neste problema desconsideraremos o tempo de parada, logo:\n",
        ">\n",
        "> $T_t = E + D+ M$\n",
        "\n",
        "Todos os tempos encontram-se em segundos.\n",
        "\n",
        "Outros dados de interesse:\n",
        "* **boom_len:** Largura do implemento do pulverizador (pé).  \n",
        "* **ACRES:** Área trabalhada dos talhões da ordem de serviço (acres).\n",
        "* **Velocidade média de efetivo:** 24 km/h.\n",
        "* Os outros campos do dataset são índices que caracterizam os talhões.\n",
        "\n",
        "**O dataset fora fornecido para o teste.**"
      ]
    },
    {
      "cell_type": "markdown",
      "metadata": {
        "id": "HgnUjeNkesjx"
      },
      "source": [
        "#**Importing libs**"
      ]
    },
    {
      "cell_type": "code",
      "metadata": {
        "id": "3n6R02UJey7F"
      },
      "source": [
        "from google.colab import files\n",
        "import numpy as np\n",
        "import pandas as pd\n",
        "import seaborn as sns\n",
        "import matplotlib.pyplot as plt\n",
        "import pdb\n",
        "from sklearn.preprocessing import StandardScaler\n",
        "from sklearn.preprocessing import MinMaxScaler\n",
        "from sklearn.model_selection import train_test_split\n",
        "from sklearn.dummy import DummyRegressor\n",
        "from sklearn.linear_model import LinearRegression\n",
        "from sklearn.ensemble import RandomForestRegressor\n",
        "from sklearn.ensemble import GradientBoostingRegressor\n",
        "from xgboost import XGBRegressor\n",
        "from sklearn.model_selection import KFold, RepeatedKFold\n",
        "from sklearn.metrics import mean_absolute_error\n",
        "from sklearn.metrics import mean_squared_error\n",
        "from sklearn.metrics import mean_squared_log_error\n",
        "from sklearn.metrics import r2_score"
      ],
      "execution_count": 380,
      "outputs": []
    },
    {
      "cell_type": "markdown",
      "metadata": {
        "id": "n0rO6TJH7x9A"
      },
      "source": [
        "#**Useful functions**"
      ]
    },
    {
      "cell_type": "code",
      "metadata": {
        "id": "MrcsZfV9d2uv"
      },
      "source": [
        "def dataset_description(df_obj):\n",
        "  ##describe the dataset\n",
        "  print('Dataset shape: %s\\n' % (df_obj.shape, ))\n",
        "  print('Dataset columns: %s\\n' % df_obj.columns)\n",
        "\n",
        "  display(df_obj)\n",
        "  #display(df_obj.head())\n",
        "  #display(df_obj.tail())\n",
        "  \n",
        "  print('\\nColumns description:\\n')\n",
        "  display(df_obj.info())\n",
        "  display(df_obj.describe())\n",
        "  \n",
        "  print('\\nNull values:\\n')\n",
        "  display(df_obj.isnull().sum())"
      ],
      "execution_count": 381,
      "outputs": []
    },
    {
      "cell_type": "code",
      "metadata": {
        "id": "4jlc3le7Fyxa"
      },
      "source": [
        "def calc_regression_metrics(model_name, real_y, prediction):\n",
        "  display(model_name+' prediction | Regression metric:')\n",
        "  print('r2:', r2_score(real_y, prediction))\n",
        "  print('MAE:', mean_absolute_error(real_y, prediction))\n",
        "  print('MSE:', mean_squared_error(real_y, prediction))"
      ],
      "execution_count": 382,
      "outputs": []
    },
    {
      "cell_type": "markdown",
      "metadata": {
        "id": "pYhC6m6Lfwl7"
      },
      "source": [
        "#**Loading dataset**"
      ]
    },
    {
      "cell_type": "code",
      "metadata": {
        "id": "ZmEi4Faa7jLa"
      },
      "source": [
        "try:\n",
        "  train_data = pd.read_csv('problems_dataset.csv')  \n",
        "except:\n",
        "  uploaded = files.upload()\n",
        "  train_data = pd.read_csv('problems_dataset.csv')\n"
      ],
      "execution_count": 383,
      "outputs": []
    },
    {
      "cell_type": "markdown",
      "metadata": {
        "id": "UbZvu4aMeq58"
      },
      "source": [
        "# **EDA step**\n",
        "\n",
        "> **Total de dados:** 113 registros\\\n",
        "> **Total de colunas:** 23 colunas, considerando uma coluna de índices\\\n",
        "> **Total de atributos:** 22 features, considerando uma coluna de chaves\\\n",
        "> **Variável alvo (*target*):** A variável alvo (*tempo_servico*), definida abaixo, representa o tempo em que um pulverizador finaliza uma ordem de serviço ($T_t$), onde $T_t$ é composto pela soma de outras três variáveis do dataset: $T_t = E + D+ M$. \n",
        "\n",
        "* Cada registro representa uma ordem de serviço previamente realizada.\n",
        "\n",
        "* Assim, nesse teste, a variável alvo (*tempo_servico*) é utilizada na formulação do problema de ML supervisionado, o qual visa estimar o tempo em que um dado pulverizador finalizará uma ordem de serviço, considerando ordens de serviço anteriores por meio das variáveis independentes do dataset.\n",
        "\n",
        "* **Os atributos *E, D, M e F* são excluídos do conjunto de features de treinamento, pois compõe a variável alvo a ser estimada.**\n",
        "\n",
        "* **Todos os atributos, com exceção da *KEY*, são atributos numéricos.**\n",
        "\n",
        "> **Dados ausentes ou nulos:**\n",
        "\n",
        "* **Não há dados ausentes ou nulos em nenhuma das colunas do dataset.**\n",
        "\n",
        "> **Atributo sem variação: (remover)**\n",
        "* *RATE_GAL_ACRES* (valores zerados)\n",
        "\n",
        "> **Atributos a serem normalizados:**\n",
        "* *ACRES, RATE_LBS_ACRES, ITER, OBJECTID, num_polygons, boom_len, AREA_TOTAL*"
      ]
    },
    {
      "cell_type": "code",
      "metadata": {
        "colab": {
          "base_uri": "https://localhost:8080/",
          "height": 1000
        },
        "id": "6bB0zs__ermS",
        "outputId": "7d84f003-d4e6-4841-dbda-24017fd367d5"
      },
      "source": [
        "dataset_description(train_data)"
      ],
      "execution_count": 384,
      "outputs": [
        {
          "output_type": "stream",
          "text": [
            "Dataset shape: (113, 23)\n",
            "\n",
            "Dataset columns: Index(['Unnamed: 0', 'KEY', 'ACRES', 'RATE_GAL_ACRES', 'RATE_LBS_ACRES', 'D',\n",
            "       'E', 'F', 'M', 'ITER', 'OBJECTID', 'convexity', 'principal_axis_ratio',\n",
            "       'rectangularity', 'eliptic_variance', 'circular_variance',\n",
            "       'compactness', 'perimeter', 'num_polygons', 'weighted_convexity',\n",
            "       'boom_len', 'AREA_TOTAL', 'AREA_RATIO'],\n",
            "      dtype='object')\n",
            "\n"
          ],
          "name": "stdout"
        },
        {
          "output_type": "display_data",
          "data": {
            "text/html": [
              "<div>\n",
              "<style scoped>\n",
              "    .dataframe tbody tr th:only-of-type {\n",
              "        vertical-align: middle;\n",
              "    }\n",
              "\n",
              "    .dataframe tbody tr th {\n",
              "        vertical-align: top;\n",
              "    }\n",
              "\n",
              "    .dataframe thead th {\n",
              "        text-align: right;\n",
              "    }\n",
              "</style>\n",
              "<table border=\"1\" class=\"dataframe\">\n",
              "  <thead>\n",
              "    <tr style=\"text-align: right;\">\n",
              "      <th></th>\n",
              "      <th>Unnamed: 0</th>\n",
              "      <th>KEY</th>\n",
              "      <th>ACRES</th>\n",
              "      <th>RATE_GAL_ACRES</th>\n",
              "      <th>RATE_LBS_ACRES</th>\n",
              "      <th>D</th>\n",
              "      <th>E</th>\n",
              "      <th>F</th>\n",
              "      <th>M</th>\n",
              "      <th>ITER</th>\n",
              "      <th>OBJECTID</th>\n",
              "      <th>convexity</th>\n",
              "      <th>principal_axis_ratio</th>\n",
              "      <th>rectangularity</th>\n",
              "      <th>eliptic_variance</th>\n",
              "      <th>circular_variance</th>\n",
              "      <th>compactness</th>\n",
              "      <th>perimeter</th>\n",
              "      <th>num_polygons</th>\n",
              "      <th>weighted_convexity</th>\n",
              "      <th>boom_len</th>\n",
              "      <th>AREA_TOTAL</th>\n",
              "      <th>AREA_RATIO</th>\n",
              "    </tr>\n",
              "  </thead>\n",
              "  <tbody>\n",
              "    <tr>\n",
              "      <th>0</th>\n",
              "      <td>0</td>\n",
              "      <td>2020-10-08|8117|3604 - C51 - TG 7300</td>\n",
              "      <td>8.60</td>\n",
              "      <td>0.0</td>\n",
              "      <td>2000.04</td>\n",
              "      <td>4.0</td>\n",
              "      <td>231.0</td>\n",
              "      <td>117.0</td>\n",
              "      <td>1.0</td>\n",
              "      <td>0</td>\n",
              "      <td>8117.0</td>\n",
              "      <td>0.997092</td>\n",
              "      <td>0.143203</td>\n",
              "      <td>0.923280</td>\n",
              "      <td>0.010304</td>\n",
              "      <td>0.293760</td>\n",
              "      <td>0.763728</td>\n",
              "      <td>0.008844</td>\n",
              "      <td>1</td>\n",
              "      <td>0.997092</td>\n",
              "      <td>80</td>\n",
              "      <td>8.971335</td>\n",
              "      <td>0.958609</td>\n",
              "    </tr>\n",
              "    <tr>\n",
              "      <th>1</th>\n",
              "      <td>1</td>\n",
              "      <td>2020-10-09|4286|3203 - L90 - TG 7300</td>\n",
              "      <td>56.93</td>\n",
              "      <td>0.0</td>\n",
              "      <td>316.95</td>\n",
              "      <td>1796.0</td>\n",
              "      <td>713.0</td>\n",
              "      <td>2573.0</td>\n",
              "      <td>19.0</td>\n",
              "      <td>0</td>\n",
              "      <td>4286.0</td>\n",
              "      <td>0.497117</td>\n",
              "      <td>0.610057</td>\n",
              "      <td>0.718599</td>\n",
              "      <td>0.134875</td>\n",
              "      <td>0.080754</td>\n",
              "      <td>0.426239</td>\n",
              "      <td>0.040843</td>\n",
              "      <td>3</td>\n",
              "      <td>0.859118</td>\n",
              "      <td>85</td>\n",
              "      <td>59.594696</td>\n",
              "      <td>0.955286</td>\n",
              "    </tr>\n",
              "    <tr>\n",
              "      <th>2</th>\n",
              "      <td>2</td>\n",
              "      <td>2020-10-12|5477|3203 - L90 - TG 7300</td>\n",
              "      <td>40.77</td>\n",
              "      <td>0.0</td>\n",
              "      <td>319.87</td>\n",
              "      <td>134.0</td>\n",
              "      <td>1309.0</td>\n",
              "      <td>0.0</td>\n",
              "      <td>470.0</td>\n",
              "      <td>0</td>\n",
              "      <td>5477.0</td>\n",
              "      <td>0.743512</td>\n",
              "      <td>0.647334</td>\n",
              "      <td>0.884944</td>\n",
              "      <td>0.120287</td>\n",
              "      <td>0.068687</td>\n",
              "      <td>0.641314</td>\n",
              "      <td>0.022984</td>\n",
              "      <td>1</td>\n",
              "      <td>0.743512</td>\n",
              "      <td>85</td>\n",
              "      <td>42.723583</td>\n",
              "      <td>0.954274</td>\n",
              "    </tr>\n",
              "    <tr>\n",
              "      <th>3</th>\n",
              "      <td>3</td>\n",
              "      <td>2020-10-13|3101|3203 - L90 - TG 7300</td>\n",
              "      <td>38.80</td>\n",
              "      <td>0.0</td>\n",
              "      <td>406.67</td>\n",
              "      <td>678.0</td>\n",
              "      <td>1563.0</td>\n",
              "      <td>0.0</td>\n",
              "      <td>255.0</td>\n",
              "      <td>0</td>\n",
              "      <td>3101.0</td>\n",
              "      <td>0.999988</td>\n",
              "      <td>0.563219</td>\n",
              "      <td>0.947371</td>\n",
              "      <td>0.013893</td>\n",
              "      <td>0.024228</td>\n",
              "      <td>0.902149</td>\n",
              "      <td>0.015932</td>\n",
              "      <td>1</td>\n",
              "      <td>0.999988</td>\n",
              "      <td>85</td>\n",
              "      <td>40.622692</td>\n",
              "      <td>0.955131</td>\n",
              "    </tr>\n",
              "    <tr>\n",
              "      <th>4</th>\n",
              "      <td>4</td>\n",
              "      <td>2020-10-08|575|3003 - 6S - TG 7300</td>\n",
              "      <td>6.13</td>\n",
              "      <td>0.0</td>\n",
              "      <td>248.11</td>\n",
              "      <td>20.0</td>\n",
              "      <td>342.0</td>\n",
              "      <td>159.0</td>\n",
              "      <td>0.0</td>\n",
              "      <td>0</td>\n",
              "      <td>575.0</td>\n",
              "      <td>0.995826</td>\n",
              "      <td>0.025848</td>\n",
              "      <td>0.827361</td>\n",
              "      <td>0.041749</td>\n",
              "      <td>0.932529</td>\n",
              "      <td>0.614919</td>\n",
              "      <td>0.009249</td>\n",
              "      <td>1</td>\n",
              "      <td>0.995826</td>\n",
              "      <td>80</td>\n",
              "      <td>6.360773</td>\n",
              "      <td>0.963719</td>\n",
              "    </tr>\n",
              "    <tr>\n",
              "      <th>...</th>\n",
              "      <td>...</td>\n",
              "      <td>...</td>\n",
              "      <td>...</td>\n",
              "      <td>...</td>\n",
              "      <td>...</td>\n",
              "      <td>...</td>\n",
              "      <td>...</td>\n",
              "      <td>...</td>\n",
              "      <td>...</td>\n",
              "      <td>...</td>\n",
              "      <td>...</td>\n",
              "      <td>...</td>\n",
              "      <td>...</td>\n",
              "      <td>...</td>\n",
              "      <td>...</td>\n",
              "      <td>...</td>\n",
              "      <td>...</td>\n",
              "      <td>...</td>\n",
              "      <td>...</td>\n",
              "      <td>...</td>\n",
              "      <td>...</td>\n",
              "      <td>...</td>\n",
              "      <td>...</td>\n",
              "    </tr>\n",
              "    <tr>\n",
              "      <th>108</th>\n",
              "      <td>108</td>\n",
              "      <td>2020-10-08|470|3003 - 6S - TG 7300</td>\n",
              "      <td>28.84</td>\n",
              "      <td>0.0</td>\n",
              "      <td>258.01</td>\n",
              "      <td>65.0</td>\n",
              "      <td>1557.0</td>\n",
              "      <td>2323.0</td>\n",
              "      <td>0.0</td>\n",
              "      <td>1</td>\n",
              "      <td>470.0</td>\n",
              "      <td>0.817520</td>\n",
              "      <td>0.746394</td>\n",
              "      <td>0.850457</td>\n",
              "      <td>0.041219</td>\n",
              "      <td>0.040941</td>\n",
              "      <td>0.715819</td>\n",
              "      <td>0.017237</td>\n",
              "      <td>2</td>\n",
              "      <td>0.995556</td>\n",
              "      <td>80</td>\n",
              "      <td>29.938136</td>\n",
              "      <td>0.963320</td>\n",
              "    </tr>\n",
              "    <tr>\n",
              "      <th>109</th>\n",
              "      <td>109</td>\n",
              "      <td>2020-10-08|1214|3003 - 6S - TG 7300</td>\n",
              "      <td>68.47</td>\n",
              "      <td>0.0</td>\n",
              "      <td>258.01</td>\n",
              "      <td>28.0</td>\n",
              "      <td>2878.0</td>\n",
              "      <td>355.0</td>\n",
              "      <td>0.0</td>\n",
              "      <td>1</td>\n",
              "      <td>1214.0</td>\n",
              "      <td>0.653959</td>\n",
              "      <td>0.435554</td>\n",
              "      <td>0.781076</td>\n",
              "      <td>0.089068</td>\n",
              "      <td>0.079620</td>\n",
              "      <td>0.525579</td>\n",
              "      <td>0.036183</td>\n",
              "      <td>3</td>\n",
              "      <td>0.998321</td>\n",
              "      <td>80</td>\n",
              "      <td>71.114013</td>\n",
              "      <td>0.962820</td>\n",
              "    </tr>\n",
              "    <tr>\n",
              "      <th>110</th>\n",
              "      <td>110</td>\n",
              "      <td>2020-10-19|7670|3001 - C36 - TG 6200</td>\n",
              "      <td>77.55</td>\n",
              "      <td>0.0</td>\n",
              "      <td>100.00</td>\n",
              "      <td>0.0</td>\n",
              "      <td>5.0</td>\n",
              "      <td>0.0</td>\n",
              "      <td>2.0</td>\n",
              "      <td>11</td>\n",
              "      <td>7670.0</td>\n",
              "      <td>0.984324</td>\n",
              "      <td>0.298417</td>\n",
              "      <td>0.979155</td>\n",
              "      <td>0.064777</td>\n",
              "      <td>0.069622</td>\n",
              "      <td>0.860303</td>\n",
              "      <td>0.023600</td>\n",
              "      <td>1</td>\n",
              "      <td>0.984324</td>\n",
              "      <td>70</td>\n",
              "      <td>81.061180</td>\n",
              "      <td>0.956685</td>\n",
              "    </tr>\n",
              "    <tr>\n",
              "      <th>111</th>\n",
              "      <td>111</td>\n",
              "      <td>2020-11-04|2701|3604 - C51 - TG 7300</td>\n",
              "      <td>13.81</td>\n",
              "      <td>0.0</td>\n",
              "      <td>450.01</td>\n",
              "      <td>2.0</td>\n",
              "      <td>474.0</td>\n",
              "      <td>0.0</td>\n",
              "      <td>0.0</td>\n",
              "      <td>19</td>\n",
              "      <td>2701.0</td>\n",
              "      <td>0.986982</td>\n",
              "      <td>0.086709</td>\n",
              "      <td>0.744301</td>\n",
              "      <td>0.031987</td>\n",
              "      <td>0.369848</td>\n",
              "      <td>0.676720</td>\n",
              "      <td>0.012661</td>\n",
              "      <td>1</td>\n",
              "      <td>0.986982</td>\n",
              "      <td>80</td>\n",
              "      <td>14.434266</td>\n",
              "      <td>0.956751</td>\n",
              "    </tr>\n",
              "    <tr>\n",
              "      <th>112</th>\n",
              "      <td>112</td>\n",
              "      <td>2020-11-04|4104|3604 - C51 - TG 7300</td>\n",
              "      <td>53.42</td>\n",
              "      <td>0.0</td>\n",
              "      <td>450.01</td>\n",
              "      <td>17.0</td>\n",
              "      <td>2039.0</td>\n",
              "      <td>152.0</td>\n",
              "      <td>0.0</td>\n",
              "      <td>19</td>\n",
              "      <td>4104.0</td>\n",
              "      <td>0.555077</td>\n",
              "      <td>0.257439</td>\n",
              "      <td>0.720419</td>\n",
              "      <td>0.166982</td>\n",
              "      <td>0.114694</td>\n",
              "      <td>0.445457</td>\n",
              "      <td>0.037818</td>\n",
              "      <td>4</td>\n",
              "      <td>0.784164</td>\n",
              "      <td>80</td>\n",
              "      <td>55.804652</td>\n",
              "      <td>0.957268</td>\n",
              "    </tr>\n",
              "  </tbody>\n",
              "</table>\n",
              "<p>113 rows × 23 columns</p>\n",
              "</div>"
            ],
            "text/plain": [
              "     Unnamed: 0                                   KEY  ...  AREA_TOTAL  AREA_RATIO\n",
              "0             0  2020-10-08|8117|3604 - C51 - TG 7300  ...    8.971335    0.958609\n",
              "1             1  2020-10-09|4286|3203 - L90 - TG 7300  ...   59.594696    0.955286\n",
              "2             2  2020-10-12|5477|3203 - L90 - TG 7300  ...   42.723583    0.954274\n",
              "3             3  2020-10-13|3101|3203 - L90 - TG 7300  ...   40.622692    0.955131\n",
              "4             4    2020-10-08|575|3003 - 6S - TG 7300  ...    6.360773    0.963719\n",
              "..          ...                                   ...  ...         ...         ...\n",
              "108         108    2020-10-08|470|3003 - 6S - TG 7300  ...   29.938136    0.963320\n",
              "109         109   2020-10-08|1214|3003 - 6S - TG 7300  ...   71.114013    0.962820\n",
              "110         110  2020-10-19|7670|3001 - C36 - TG 6200  ...   81.061180    0.956685\n",
              "111         111  2020-11-04|2701|3604 - C51 - TG 7300  ...   14.434266    0.956751\n",
              "112         112  2020-11-04|4104|3604 - C51 - TG 7300  ...   55.804652    0.957268\n",
              "\n",
              "[113 rows x 23 columns]"
            ]
          },
          "metadata": {
            "tags": []
          }
        },
        {
          "output_type": "stream",
          "text": [
            "\n",
            "Columns description:\n",
            "\n",
            "<class 'pandas.core.frame.DataFrame'>\n",
            "RangeIndex: 113 entries, 0 to 112\n",
            "Data columns (total 23 columns):\n",
            " #   Column                Non-Null Count  Dtype  \n",
            "---  ------                --------------  -----  \n",
            " 0   Unnamed: 0            113 non-null    int64  \n",
            " 1   KEY                   113 non-null    object \n",
            " 2   ACRES                 113 non-null    float64\n",
            " 3   RATE_GAL_ACRES        113 non-null    float64\n",
            " 4   RATE_LBS_ACRES        113 non-null    float64\n",
            " 5   D                     113 non-null    float64\n",
            " 6   E                     113 non-null    float64\n",
            " 7   F                     113 non-null    float64\n",
            " 8   M                     113 non-null    float64\n",
            " 9   ITER                  113 non-null    int64  \n",
            " 10  OBJECTID              113 non-null    float64\n",
            " 11  convexity             113 non-null    float64\n",
            " 12  principal_axis_ratio  113 non-null    float64\n",
            " 13  rectangularity        113 non-null    float64\n",
            " 14  eliptic_variance      113 non-null    float64\n",
            " 15  circular_variance     113 non-null    float64\n",
            " 16  compactness           113 non-null    float64\n",
            " 17  perimeter             113 non-null    float64\n",
            " 18  num_polygons          113 non-null    int64  \n",
            " 19  weighted_convexity    113 non-null    float64\n",
            " 20  boom_len              113 non-null    int64  \n",
            " 21  AREA_TOTAL            113 non-null    float64\n",
            " 22  AREA_RATIO            113 non-null    float64\n",
            "dtypes: float64(18), int64(4), object(1)\n",
            "memory usage: 20.4+ KB\n"
          ],
          "name": "stdout"
        },
        {
          "output_type": "display_data",
          "data": {
            "text/plain": [
              "None"
            ]
          },
          "metadata": {
            "tags": []
          }
        },
        {
          "output_type": "display_data",
          "data": {
            "text/html": [
              "<div>\n",
              "<style scoped>\n",
              "    .dataframe tbody tr th:only-of-type {\n",
              "        vertical-align: middle;\n",
              "    }\n",
              "\n",
              "    .dataframe tbody tr th {\n",
              "        vertical-align: top;\n",
              "    }\n",
              "\n",
              "    .dataframe thead th {\n",
              "        text-align: right;\n",
              "    }\n",
              "</style>\n",
              "<table border=\"1\" class=\"dataframe\">\n",
              "  <thead>\n",
              "    <tr style=\"text-align: right;\">\n",
              "      <th></th>\n",
              "      <th>Unnamed: 0</th>\n",
              "      <th>ACRES</th>\n",
              "      <th>RATE_GAL_ACRES</th>\n",
              "      <th>RATE_LBS_ACRES</th>\n",
              "      <th>D</th>\n",
              "      <th>E</th>\n",
              "      <th>F</th>\n",
              "      <th>M</th>\n",
              "      <th>ITER</th>\n",
              "      <th>OBJECTID</th>\n",
              "      <th>convexity</th>\n",
              "      <th>principal_axis_ratio</th>\n",
              "      <th>rectangularity</th>\n",
              "      <th>eliptic_variance</th>\n",
              "      <th>circular_variance</th>\n",
              "      <th>compactness</th>\n",
              "      <th>perimeter</th>\n",
              "      <th>num_polygons</th>\n",
              "      <th>weighted_convexity</th>\n",
              "      <th>boom_len</th>\n",
              "      <th>AREA_TOTAL</th>\n",
              "      <th>AREA_RATIO</th>\n",
              "    </tr>\n",
              "  </thead>\n",
              "  <tbody>\n",
              "    <tr>\n",
              "      <th>count</th>\n",
              "      <td>113.00000</td>\n",
              "      <td>113.000000</td>\n",
              "      <td>113.0</td>\n",
              "      <td>113.000000</td>\n",
              "      <td>113.000000</td>\n",
              "      <td>113.000000</td>\n",
              "      <td>113.000000</td>\n",
              "      <td>113.000000</td>\n",
              "      <td>113.000000</td>\n",
              "      <td>113.000000</td>\n",
              "      <td>113.000000</td>\n",
              "      <td>113.000000</td>\n",
              "      <td>113.000000</td>\n",
              "      <td>113.000000</td>\n",
              "      <td>113.000000</td>\n",
              "      <td>113.000000</td>\n",
              "      <td>113.000000</td>\n",
              "      <td>113.000000</td>\n",
              "      <td>113.000000</td>\n",
              "      <td>113.000000</td>\n",
              "      <td>113.000000</td>\n",
              "      <td>113.000000</td>\n",
              "    </tr>\n",
              "    <tr>\n",
              "      <th>mean</th>\n",
              "      <td>56.00000</td>\n",
              "      <td>56.360531</td>\n",
              "      <td>0.0</td>\n",
              "      <td>309.578142</td>\n",
              "      <td>174.530973</td>\n",
              "      <td>1860.283186</td>\n",
              "      <td>643.849558</td>\n",
              "      <td>92.628319</td>\n",
              "      <td>0.460177</td>\n",
              "      <td>3264.327434</td>\n",
              "      <td>0.845480</td>\n",
              "      <td>0.341616</td>\n",
              "      <td>0.768270</td>\n",
              "      <td>0.090263</td>\n",
              "      <td>0.211801</td>\n",
              "      <td>0.672206</td>\n",
              "      <td>0.027700</td>\n",
              "      <td>1.495575</td>\n",
              "      <td>0.893593</td>\n",
              "      <td>77.035398</td>\n",
              "      <td>60.618727</td>\n",
              "      <td>0.941329</td>\n",
              "    </tr>\n",
              "    <tr>\n",
              "      <th>std</th>\n",
              "      <td>32.76431</td>\n",
              "      <td>46.793619</td>\n",
              "      <td>0.0</td>\n",
              "      <td>210.074786</td>\n",
              "      <td>315.341370</td>\n",
              "      <td>1688.328328</td>\n",
              "      <td>1260.695027</td>\n",
              "      <td>240.563037</td>\n",
              "      <td>2.709228</td>\n",
              "      <td>2599.273516</td>\n",
              "      <td>0.178180</td>\n",
              "      <td>0.210566</td>\n",
              "      <td>0.159451</td>\n",
              "      <td>0.079703</td>\n",
              "      <td>0.313864</td>\n",
              "      <td>0.164445</td>\n",
              "      <td>0.022114</td>\n",
              "      <td>1.570509</td>\n",
              "      <td>0.132060</td>\n",
              "      <td>7.215966</td>\n",
              "      <td>49.193770</td>\n",
              "      <td>0.106287</td>\n",
              "    </tr>\n",
              "    <tr>\n",
              "      <th>min</th>\n",
              "      <td>0.00000</td>\n",
              "      <td>1.040000</td>\n",
              "      <td>0.0</td>\n",
              "      <td>1.000000</td>\n",
              "      <td>0.000000</td>\n",
              "      <td>5.000000</td>\n",
              "      <td>0.000000</td>\n",
              "      <td>0.000000</td>\n",
              "      <td>0.000000</td>\n",
              "      <td>65.000000</td>\n",
              "      <td>0.330061</td>\n",
              "      <td>0.025178</td>\n",
              "      <td>0.296838</td>\n",
              "      <td>0.008956</td>\n",
              "      <td>0.023967</td>\n",
              "      <td>0.241356</td>\n",
              "      <td>0.002924</td>\n",
              "      <td>1.000000</td>\n",
              "      <td>0.424034</td>\n",
              "      <td>60.000000</td>\n",
              "      <td>1.088398</td>\n",
              "      <td>0.295560</td>\n",
              "    </tr>\n",
              "    <tr>\n",
              "      <th>25%</th>\n",
              "      <td>28.00000</td>\n",
              "      <td>20.140000</td>\n",
              "      <td>0.0</td>\n",
              "      <td>225.000000</td>\n",
              "      <td>24.000000</td>\n",
              "      <td>685.000000</td>\n",
              "      <td>0.000000</td>\n",
              "      <td>0.000000</td>\n",
              "      <td>0.000000</td>\n",
              "      <td>1044.000000</td>\n",
              "      <td>0.742120</td>\n",
              "      <td>0.169594</td>\n",
              "      <td>0.684061</td>\n",
              "      <td>0.028517</td>\n",
              "      <td>0.072492</td>\n",
              "      <td>0.541255</td>\n",
              "      <td>0.014835</td>\n",
              "      <td>1.000000</td>\n",
              "      <td>0.824010</td>\n",
              "      <td>70.000000</td>\n",
              "      <td>21.030166</td>\n",
              "      <td>0.956764</td>\n",
              "    </tr>\n",
              "    <tr>\n",
              "      <th>50%</th>\n",
              "      <td>56.00000</td>\n",
              "      <td>47.370000</td>\n",
              "      <td>0.0</td>\n",
              "      <td>296.590000</td>\n",
              "      <td>48.000000</td>\n",
              "      <td>1557.000000</td>\n",
              "      <td>147.000000</td>\n",
              "      <td>0.000000</td>\n",
              "      <td>0.000000</td>\n",
              "      <td>2597.000000</td>\n",
              "      <td>0.928484</td>\n",
              "      <td>0.298417</td>\n",
              "      <td>0.800049</td>\n",
              "      <td>0.064777</td>\n",
              "      <td>0.115536</td>\n",
              "      <td>0.686326</td>\n",
              "      <td>0.023957</td>\n",
              "      <td>1.000000</td>\n",
              "      <td>0.951865</td>\n",
              "      <td>80.000000</td>\n",
              "      <td>51.457798</td>\n",
              "      <td>0.958836</td>\n",
              "    </tr>\n",
              "    <tr>\n",
              "      <th>75%</th>\n",
              "      <td>84.00000</td>\n",
              "      <td>77.120000</td>\n",
              "      <td>0.0</td>\n",
              "      <td>400.010000</td>\n",
              "      <td>180.000000</td>\n",
              "      <td>2335.000000</td>\n",
              "      <td>587.000000</td>\n",
              "      <td>19.000000</td>\n",
              "      <td>0.000000</td>\n",
              "      <td>4732.000000</td>\n",
              "      <td>0.995910</td>\n",
              "      <td>0.506028</td>\n",
              "      <td>0.884944</td>\n",
              "      <td>0.126408</td>\n",
              "      <td>0.194424</td>\n",
              "      <td>0.815395</td>\n",
              "      <td>0.030293</td>\n",
              "      <td>1.000000</td>\n",
              "      <td>0.996384</td>\n",
              "      <td>80.000000</td>\n",
              "      <td>82.041280</td>\n",
              "      <td>0.962556</td>\n",
              "    </tr>\n",
              "    <tr>\n",
              "      <th>max</th>\n",
              "      <td>112.00000</td>\n",
              "      <td>270.700000</td>\n",
              "      <td>0.0</td>\n",
              "      <td>2000.040000</td>\n",
              "      <td>1796.000000</td>\n",
              "      <td>9449.000000</td>\n",
              "      <td>7676.000000</td>\n",
              "      <td>1488.000000</td>\n",
              "      <td>19.000000</td>\n",
              "      <td>8117.000000</td>\n",
              "      <td>1.000000</td>\n",
              "      <td>0.790778</td>\n",
              "      <td>0.998288</td>\n",
              "      <td>0.411700</td>\n",
              "      <td>2.358658</td>\n",
              "      <td>0.908125</td>\n",
              "      <td>0.157214</td>\n",
              "      <td>12.000000</td>\n",
              "      <td>1.000000</td>\n",
              "      <td>85.000000</td>\n",
              "      <td>283.119214</td>\n",
              "      <td>1.147650</td>\n",
              "    </tr>\n",
              "  </tbody>\n",
              "</table>\n",
              "</div>"
            ],
            "text/plain": [
              "       Unnamed: 0       ACRES  ...  AREA_TOTAL  AREA_RATIO\n",
              "count   113.00000  113.000000  ...  113.000000  113.000000\n",
              "mean     56.00000   56.360531  ...   60.618727    0.941329\n",
              "std      32.76431   46.793619  ...   49.193770    0.106287\n",
              "min       0.00000    1.040000  ...    1.088398    0.295560\n",
              "25%      28.00000   20.140000  ...   21.030166    0.956764\n",
              "50%      56.00000   47.370000  ...   51.457798    0.958836\n",
              "75%      84.00000   77.120000  ...   82.041280    0.962556\n",
              "max     112.00000  270.700000  ...  283.119214    1.147650\n",
              "\n",
              "[8 rows x 22 columns]"
            ]
          },
          "metadata": {
            "tags": []
          }
        },
        {
          "output_type": "stream",
          "text": [
            "\n",
            "Null values:\n",
            "\n"
          ],
          "name": "stdout"
        },
        {
          "output_type": "display_data",
          "data": {
            "text/plain": [
              "Unnamed: 0              0\n",
              "KEY                     0\n",
              "ACRES                   0\n",
              "RATE_GAL_ACRES          0\n",
              "RATE_LBS_ACRES          0\n",
              "D                       0\n",
              "E                       0\n",
              "F                       0\n",
              "M                       0\n",
              "ITER                    0\n",
              "OBJECTID                0\n",
              "convexity               0\n",
              "principal_axis_ratio    0\n",
              "rectangularity          0\n",
              "eliptic_variance        0\n",
              "circular_variance       0\n",
              "compactness             0\n",
              "perimeter               0\n",
              "num_polygons            0\n",
              "weighted_convexity      0\n",
              "boom_len                0\n",
              "AREA_TOTAL              0\n",
              "AREA_RATIO              0\n",
              "dtype: int64"
            ]
          },
          "metadata": {
            "tags": []
          }
        }
      ]
    },
    {
      "cell_type": "markdown",
      "metadata": {
        "id": "0RUgMCt-Q5bo"
      },
      "source": [
        "**Análise das features mais relevantes:**\n",
        "\n",
        "> **Feature *ACRES*:**\\\n",
        "> Área trabalhada dos talhões da ordem de serviço (acres).\n",
        "\n",
        "* **Sem dados faltantes.**\n",
        "* Valores desbalanceados, ordens de serviço variando entre 1.04 e 270.7 acres.\n",
        "* 50% das ordens de serviço apresentam menos de 47.37 acres.\n",
        "* 75% das ordens de serviço apresentam menos de 77.12 acres."
      ]
    },
    {
      "cell_type": "code",
      "metadata": {
        "colab": {
          "base_uri": "https://localhost:8080/",
          "height": 964
        },
        "id": "XTlAbp4-RGoW",
        "outputId": "24b96c7f-cce5-420d-85da-d0c435413b3a"
      },
      "source": [
        "var='ACRES'\n",
        "print('Total de valores da feature %s:\\n%s\\n' % (var, train_data[var].value_counts()))\n",
        "#print('Porcentagem total de valores da feature %s:\\n%s\\n' % (var, train_data[var].value_counts(normalize=True))) #feature com valores desbalanceados\n",
        "print('Classes de valores únicos da feature %s:\\n%s\\n'  % (var, train_data[var].unique())) #descrição dos valores únicos da feature\n",
        "print(train_data[var].describe(), '\\n')\n",
        "ax=train_data[var].hist(bins=50)\n",
        "ax.set_title('Distribuição de valores para a feature '+var)\n",
        "ax.set_ylabel('Ordens de Serviço')\n",
        "ax.set_xlabel('ACRE')"
      ],
      "execution_count": 385,
      "outputs": [
        {
          "output_type": "stream",
          "text": [
            "Total de valores da feature ACRES:\n",
            "8.48      1\n",
            "25.16     1\n",
            "103.46    1\n",
            "48.54     1\n",
            "101.81    1\n",
            "         ..\n",
            "89.01     1\n",
            "78.53     1\n",
            "74.45     1\n",
            "77.55     1\n",
            "149.50    1\n",
            "Name: ACRES, Length: 113, dtype: int64\n",
            "\n",
            "Classes de valores únicos da feature ACRES:\n",
            "[  8.6   56.93  40.77  38.8    6.13  29.53   8.18  41.41  13.47  66.45\n",
            "  77.12  89.01  53.67 133.66 191.14  79.15   9.98  74.51  48.54 103.6\n",
            "   1.04  16.48   1.83  12.45  15.72  16.68  59.45  49.03 119.45 116.34\n",
            " 149.5  270.7  101.81  82.89  14.8   45.05  30.64  53.66  13.91  39.93\n",
            "  50.49  82.31 166.01  44.    44.97  33.31  79.47  58.42  47.37  43.66\n",
            "  90.91 221.95  67.53  19.69  25.16  22.26  15.42  73.44  63.78  17.03\n",
            "  78.85  16.63  26.    63.    56.02  41.09  34.2  145.11  43.29  27.09\n",
            "  83.59  15.83  68.45  17.33  56.46  29.    77.59  81.1   37.74  23.92\n",
            "   1.81   8.48  67.83 111.17  74.45  30.05  36.28 116.83   7.78  78.53\n",
            "  82.16  16.78   7.66  20.14  11.52  18.68   8.65  72.3   46.23 103.46\n",
            " 177.89  71.41  58.11  60.23  20.31  52.94  69.84  23.65  28.84  68.47\n",
            "  77.55  13.81  53.42]\n",
            "\n",
            "count    113.000000\n",
            "mean      56.360531\n",
            "std       46.793619\n",
            "min        1.040000\n",
            "25%       20.140000\n",
            "50%       47.370000\n",
            "75%       77.120000\n",
            "max      270.700000\n",
            "Name: ACRES, dtype: float64 \n",
            "\n"
          ],
          "name": "stdout"
        },
        {
          "output_type": "execute_result",
          "data": {
            "text/plain": [
              "Text(0.5, 0, 'ACRE')"
            ]
          },
          "metadata": {
            "tags": []
          },
          "execution_count": 385
        },
        {
          "output_type": "display_data",
          "data": {
            "image/png": "[encoded data removed]",
            "text/plain": [
              "<Figure size 432x288 with 1 Axes>"
            ]
          },
          "metadata": {
            "tags": []
          }
        }
      ]
    },
    {
      "cell_type": "markdown",
      "metadata": {
        "id": "iPxrKvdtTikc"
      },
      "source": [
        "> **Feature *boom_len*:**\\\n",
        "> Largura do implemento do pulverizador (pé).\n",
        "\n",
        "* **Sem dados faltantes.**\n",
        "* Valores desbalanceados, largura do implemento do pulverizador usado nas ordens de serviço do dataset varia entre 60 e 85 pés.\n",
        "* A feature assume apenas quatro valores distintos (feature categórica): 80, 85, 70, 60.\n",
        "* 75% das ordens de serviço apresentam largura do implemento do pulverizador menor do que 80 pés."
      ]
    },
    {
      "cell_type": "code",
      "metadata": {
        "colab": {
          "base_uri": "https://localhost:8080/",
          "height": 641
        },
        "id": "geGMtLcIT6UL",
        "outputId": "afd7c76f-04d1-49c0-9942-2b4f8a9c2117"
      },
      "source": [
        "var='boom_len'\n",
        "print('Total de valores da feature %s:\\n%s\\n' % (var, train_data[var].value_counts()))\n",
        "#print('Porcentagem total de valores da feature %s:\\n%s\\n' % (var, train_data[var].value_counts(normalize=True))) #feature com valores desbalanceados\n",
        "print('Classes de valores únicos da feature %s:\\n%s\\n'  % (var, train_data[var].unique())) #descrição dos valores únicos da feature\n",
        "print(train_data[var].describe(), '\\n')\n",
        "ax=train_data[var].value_counts().plot.bar()\n",
        "ax.set_title('Distribuição de valores para a feature '+var)\n",
        "ax.set_ylabel('Ordens de Serviço')\n",
        "ax.set_xlabel('boom_len')\n",
        "ax.tick_params(axis='x', labelrotation=0)"
      ],
      "execution_count": 386,
      "outputs": [
        {
          "output_type": "stream",
          "text": [
            "Total de valores da feature boom_len:\n",
            "80    65\n",
            "70    20\n",
            "85    17\n",
            "60    11\n",
            "Name: boom_len, dtype: int64\n",
            "\n",
            "Classes de valores únicos da feature boom_len:\n",
            "[80 85 70 60]\n",
            "\n",
            "count    113.000000\n",
            "mean      77.035398\n",
            "std        7.215966\n",
            "min       60.000000\n",
            "25%       70.000000\n",
            "50%       80.000000\n",
            "75%       80.000000\n",
            "max       85.000000\n",
            "Name: boom_len, dtype: float64 \n",
            "\n"
          ],
          "name": "stdout"
        },
        {
          "output_type": "display_data",
          "data": {
            "image/png": "[encoded data removed]",
            "text/plain": [
              "<Figure size 432x288 with 1 Axes>"
            ]
          },
          "metadata": {
            "tags": []
          }
        }
      ]
    },
    {
      "cell_type": "markdown",
      "metadata": {
        "id": "XsKbnofWX5Pp"
      },
      "source": [
        "> **Relação entre as features *ACRES* e *boom_len*:**\n",
        "\n",
        "* **Através dos gráficos, percebe-se que a largura do implemento do pulverizador não é a única responsável por definir a área trabalhada dos talhões, visto que existem ordens de serviço com o maior valor possível de boom_len (85 pés) e com valor de *ACRES* mais baixo.**\n",
        "\n",
        "* **Assim, faz-se necessária a investigação dos outros atributos do dataset que caracterizam os talhões.**"
      ]
    },
    {
      "cell_type": "code",
      "metadata": {
        "colab": {
          "base_uri": "https://localhost:8080/",
          "height": 987
        },
        "id": "BK3RGErrXyWE",
        "outputId": "a088782a-4f14-4880-cf56-5c327c0698bb"
      },
      "source": [
        "sns.set()\n",
        "plt.figure(figsize=(10, 8))\n",
        "sns.boxplot(y='ACRES', x='boom_len', data=train_data)\n",
        "plt.show()\n",
        "\n",
        "sns.set()\n",
        "plt.figure(figsize=(10, 8))\n",
        "sns.violinplot(y='ACRES', x='boom_len', data=train_data)\n",
        "plt.show()"
      ],
      "execution_count": 387,
      "outputs": [
        {
          "output_type": "display_data",
          "data": {
            "image/png": "[encoded data removed]",
            "text/plain": [
              "<Figure size 720x576 with 1 Axes>"
            ]
          },
          "metadata": {
            "tags": []
          }
        },
        {
          "output_type": "display_data",
          "data": {
            "image/png": "[encoded data removed]",
            "text/plain": [
              "<Figure size 720x576 with 1 Axes>"
            ]
          },
          "metadata": {
            "tags": []
          }
        }
      ]
    },
    {
      "cell_type": "markdown",
      "metadata": {
        "id": "qF-FhjKoawEC"
      },
      "source": [
        "**Correlação entre as features:**\n",
        "\n",
        "> Determinação do grau de relacionamento entre duas features.\n",
        "\n",
        "De forma mais evidente, nota-se alguns cenários de correlação entre os atributos: \n",
        "1. Corelação positiva entre as features *ACRES, E, perimeter e AREA_TOTAL*. Essas variáveis também apresentam leve correlação com as outras features responsáveis por formarem a variável alvo (*D e M*), o que pode indicar uma relevância maior para a estimativa do *target*.\n",
        "\n",
        "2. Corelação positiva entre as features *compactness, convexity e weighted_convexity*. Essas variáveis apresentam leve correlação negativa com as features geradoras do target."
      ]
    },
    {
      "cell_type": "code",
      "metadata": {
        "colab": {
          "base_uri": "https://localhost:8080/",
          "height": 711
        },
        "id": "GopBf0QAbi1s",
        "outputId": "dbf5420d-a9f0-4609-828f-acab7ffc390d"
      },
      "source": [
        "corr=train_data.iloc[:, 1:].corr()\n",
        "#display(corr)\n",
        "\n",
        "# Generate a mask for the upper triangle\n",
        "mask = np.triu(np.ones_like(corr, dtype=bool))\n",
        "# Set up the matplotlib figure\n",
        "f, ax = plt.subplots(figsize=(13, 10))\n",
        "# Generate a custom diverging colormap\n",
        "cmap = sns.diverging_palette(230, 20, as_cmap=True)\n",
        "# Draw the heatmap with the mask and correct aspect ratio\n",
        "sns.heatmap(corr, mask=mask, cmap=cmap, center=0,\n",
        "            square=True, linewidths=.5, cbar_kws={\"shrink\": .5})"
      ],
      "execution_count": 388,
      "outputs": [
        {
          "output_type": "execute_result",
          "data": {
            "text/plain": [
              "<matplotlib.axes._subplots.AxesSubplot at 0x7f2047cf1e90>"
            ]
          },
          "metadata": {
            "tags": []
          },
          "execution_count": 388
        },
        {
          "output_type": "display_data",
          "data": {
            "image/png": "[encoded data removed]",
            "text/plain": [
              "<Figure size 936x720 with 2 Axes>"
            ]
          },
          "metadata": {
            "tags": []
          }
        }
      ]
    },
    {
      "cell_type": "markdown",
      "metadata": {
        "id": "9eUIHG3jqPdb"
      },
      "source": [
        "# **ML steps**\n",
        "\n",
        "> Problema a ser resolvido: Considerando os atributos do dataset, o modelo de ML visa estimar o tempo em que um pulverizador finaliza uma certa ordem de serviço de acordo com a variável alvo *tempo_servico*, gerada através da soma dos atributos *Efetivo (E)*, *Deslocamento (D)* e *Manobra (M)*.\n",
        "\n",
        "* Visto que a variável alvo representa valores contínuos, usaremos modelos de regressão para o treinamento e estimação de valores.\n",
        "\n",
        "**Etapas de ajuste do modelo de ML ao dataset:**\n",
        "1. Definição das features utilizadas no modelo de ML.\n",
        "\n",
        "2. Divisão da base em treino e validação (*data split*).\n",
        "\n",
        "3. Ajuste dos dados de treino (*fit*).\n",
        "\n",
        "4. Predição e cálculo da acurácia para o conjunto de validação/teste (*prediction* e *score*)."
      ]
    },
    {
      "cell_type": "markdown",
      "metadata": {
        "id": "jpvDluXzbrz0"
      },
      "source": [
        "**Criação de novos atributos:**\n",
        "\n",
        "* Criação da variável alvo *tempo_servico* através da soma das variáveis *E, D e M*.\n",
        "\n",
        "* Criação da variável *eficiencia*, a qual visa descrever a relação (razão) entre os atributos ACRES, boom_len e a velocidade média de efetivo (24 km/h). Quanto maior o valor da variável criada, mais eficiente a ordem de serviço considerando apenas a área trabalhada dos talhões e a largura do implemento do pulverizador."
      ]
    },
    {
      "cell_type": "code",
      "metadata": {
        "colab": {
          "base_uri": "https://localhost:8080/",
          "height": 170
        },
        "id": "-ajiQIgL2yXm",
        "outputId": "597a8c7d-d44c-44ba-d4d5-633d94b86bbd"
      },
      "source": [
        "##criação da variável target tempo_servico\n",
        "train_data['tempo_servico']=train_data['E']+train_data['D']+train_data['M']\n",
        "\n",
        "##criação da variável de eficiência \n",
        "train_data['eficiencia']=train_data['ACRES']/train_data['boom_len']*24.0\n",
        "display(train_data['eficiencia'].describe())"
      ],
      "execution_count": 389,
      "outputs": [
        {
          "output_type": "display_data",
          "data": {
            "text/plain": [
              "count    113.000000\n",
              "mean      17.570784\n",
              "std       14.145495\n",
              "min        0.312000\n",
              "25%        6.678000\n",
              "50%       15.147000\n",
              "75%       23.945143\n",
              "max       76.432941\n",
              "Name: eficiencia, dtype: float64"
            ]
          },
          "metadata": {
            "tags": []
          }
        }
      ]
    },
    {
      "cell_type": "markdown",
      "metadata": {
        "id": "aaHxRZLzueRT"
      },
      "source": [
        "**Variáveis para o modelo de ML:**\n",
        "\n",
        "X = features de treino (variáveis independentes)\\\n",
        "y = *target* (variável dependente)\n",
        "\n",
        "* **Inicialmente todas as features do dataset serão utilizadas, exceto as features que compõe a variável alvo, feature de índices e chaves.**"
      ]
    },
    {
      "cell_type": "code",
      "metadata": {
        "id": "uYVRoiDb7rY9"
      },
      "source": [
        "#display(train_data.columns)\n",
        "\n",
        "##features utilizadas no treinamento do modelo\n",
        "features = ['ACRES', 'RATE_LBS_ACRES', 'ITER', 'OBJECTID', 'convexity', 'principal_axis_ratio', 'rectangularity', 'eliptic_variance', 'circular_variance', 'compactness', 'perimeter', \n",
        "       'num_polygons', 'weighted_convexity', 'boom_len', 'AREA_TOTAL', 'AREA_RATIO', 'eficiencia']\n",
        "\n",
        "X = train_data[features]\n",
        "\n",
        "##target a ser estimado\n",
        "y = train_data['tempo_servico']\n",
        "\n",
        "#display(X)\n",
        "#display(y)"
      ],
      "execution_count": 390,
      "outputs": []
    },
    {
      "cell_type": "markdown",
      "metadata": {
        "id": "fVE6m_Cj8VJb"
      },
      "source": [
        "**Divisão do dataset em treino e validação/teste:**\n",
        "\n",
        "> test_size = 0.25 -> Tamanho para a base de teste (validação). A proporção entre treino e teste varia de acordo com o volume de dados disponível.\n",
        "\n",
        "> O modelo será testado seguindo a proporção de 25/75, o que significa que a base de teste será composta por 25% dos dados, e a base de treino será composta pelos 75% restantes."
      ]
    },
    {
      "cell_type": "code",
      "metadata": {
        "id": "jdsEQ_XZ8Vdh"
      },
      "source": [
        "##data split between train and validation\n",
        "train_X, val_X, train_y, val_y = train_test_split(X, y, test_size=0.25, random_state=376) #test_size=0.3, 0.5\n",
        "\n",
        "#display(train_X)\n",
        "#display(val_X)\n",
        "#display(train_y)\n",
        "#display(val_y)"
      ],
      "execution_count": 391,
      "outputs": []
    },
    {
      "cell_type": "markdown",
      "metadata": {
        "id": "pa1iVe7N12GO"
      },
      "source": [
        "**Normalização de features:**"
      ]
    },
    {
      "cell_type": "code",
      "metadata": {
        "colab": {
          "base_uri": "https://localhost:8080/"
        },
        "id": "nCCo6pW52Koc",
        "outputId": "8800ab89-26b2-44c2-8553-bf6373df23a9"
      },
      "source": [
        "##normalização de algumas features fora de escala apontadas na etapa de EDA\n",
        "norm_features = ['ACRES', 'RATE_LBS_ACRES', 'ITER', 'OBJECTID', 'num_polygons', 'boom_len', 'AREA_TOTAL', 'eficiencia']\n",
        "\n",
        "#std_sca=StandardScaler()\n",
        "#std_sca.fit(train_X[norm_features])\n",
        "#train_X.loc[:, norm_features]=std_sca.transform(train_X[norm_features])\n",
        "#val_X.loc[:, norm_features]=std_sca.transform(val_X[norm_features])\n",
        "\n",
        "##min-max normalization\n",
        "mm_sca=MinMaxScaler()\n",
        "mm_sca.fit(train_X[norm_features])\n",
        "train_X.loc[:, norm_features]=mm_sca.transform(train_X[norm_features])\n",
        "val_X.loc[:, norm_features]=mm_sca.transform(val_X[norm_features])\n",
        "\n",
        "#display(train_X)\n",
        "#display(val_X)"
      ],
      "execution_count": 392,
      "outputs": [
        {
          "output_type": "stream",
          "text": [
            "/usr/local/lib/python3.7/dist-packages/pandas/core/indexing.py:1734: SettingWithCopyWarning: \n",
            "A value is trying to be set on a copy of a slice from a DataFrame.\n",
            "Try using .loc[row_indexer,col_indexer] = value instead\n",
            "\n",
            "See the caveats in the documentation: https://pandas.pydata.org/pandas-docs/stable/user_guide/indexing.html#returning-a-view-versus-a-copy\n",
            "  isetter(loc, value[:, i].tolist())\n",
            "/usr/local/lib/python3.7/dist-packages/pandas/core/indexing.py:1734: SettingWithCopyWarning: \n",
            "A value is trying to be set on a copy of a slice from a DataFrame.\n",
            "Try using .loc[row_indexer,col_indexer] = value instead\n",
            "\n",
            "See the caveats in the documentation: https://pandas.pydata.org/pandas-docs/stable/user_guide/indexing.html#returning-a-view-versus-a-copy\n",
            "  isetter(loc, value[:, i].tolist())\n"
          ],
          "name": "stderr"
        }
      ]
    },
    {
      "cell_type": "markdown",
      "metadata": {
        "id": "fm5X5Qm0LGIt"
      },
      "source": [
        "**Modelos de ML:**\n",
        "\n",
        "> Datasets:\n",
        "\n",
        "* Treino: train_X, train_y\n",
        "\n",
        "* Validação/teste: val_X, val_y"
      ]
    },
    {
      "cell_type": "markdown",
      "metadata": {
        "id": "h9Vnnjk8OOPo"
      },
      "source": [
        "**1) Modelo baseline: Dummy Regressor utilizando a média dos valores como variável alvo**\n",
        "\n",
        "Será empregada a estratégia da média dos valores da variável alvo: dada a média dos valores do target (*tempo_servico*), o modelo Dummy vai inferir que todos os registros da base de dados assumem o valor da média na variável target."
      ]
    },
    {
      "cell_type": "code",
      "metadata": {
        "colab": {
          "base_uri": "https://localhost:8080/",
          "height": 86
        },
        "id": "cKbdrCRYLGVO",
        "outputId": "49d58d5c-2660-4d67-d1fd-076ed2bb5fb4"
      },
      "source": [
        "dummy_model = DummyRegressor('mean') #baseline model\n",
        "dummy_model.fit(train_X, train_y) #treino\n",
        "#print(dummy_model.score(train_X, train_y))\n",
        "\n",
        "dummy_prediction=dummy_model.predict(val_X) #predição\n",
        "\n",
        "calc_regression_metrics('Dummy Regressor', val_y, dummy_prediction) #cálculo da acurácia do dummy regressor"
      ],
      "execution_count": 393,
      "outputs": [
        {
          "output_type": "display_data",
          "data": {
            "application/vnd.google.colaboratory.intrinsic+json": {
              "type": "string"
            },
            "text/plain": [
              "'Dummy Regressor prediction | Regression metric:'"
            ]
          },
          "metadata": {
            "tags": []
          }
        },
        {
          "output_type": "stream",
          "text": [
            "r2: -0.006250361363032253\n",
            "MAE: 1378.7713464696224\n",
            "MSE: 3943997.9707023613\n"
          ],
          "name": "stdout"
        }
      ]
    },
    {
      "cell_type": "markdown",
      "metadata": {
        "id": "jqZ44Xo-O_cm"
      },
      "source": [
        "**2) Linear Regression algorithm**"
      ]
    },
    {
      "cell_type": "code",
      "metadata": {
        "colab": {
          "base_uri": "https://localhost:8080/",
          "height": 643
        },
        "id": "IvEB-tczO_s7",
        "outputId": "e4399f39-c52c-4bff-c846-1dea587e05da"
      },
      "source": [
        "##modelo de regressão linear\n",
        "lr_model = LinearRegression()\n",
        "lr_model.fit(train_X, train_y) #treino\n",
        "#print(lr_model.score(train_X, train_y))\n",
        "\n",
        "lr_prediction=lr_model.predict(val_X) #predição\n",
        "\n",
        "calc_regression_metrics('Linear Regression', val_y, lr_prediction) #cálculo da acurácia da regressão linear\n",
        "\n",
        "##importância de atributos\n",
        "importance = lr_model.coef_\n",
        "print(\"\")\n",
        "for i,v in enumerate(importance):\n",
        "\tprint('Feature importance: %0d, Score: %.5f' % (i, v))\n",
        "plt.bar([x for x in range(len(importance))], importance)\n",
        "plt.show()"
      ],
      "execution_count": 394,
      "outputs": [
        {
          "output_type": "display_data",
          "data": {
            "application/vnd.google.colaboratory.intrinsic+json": {
              "type": "string"
            },
            "text/plain": [
              "'Linear Regression prediction | Regression metric:'"
            ]
          },
          "metadata": {
            "tags": []
          }
        },
        {
          "output_type": "stream",
          "text": [
            "r2: 0.6229284847019334\n",
            "MAE: 800.7884609685883\n",
            "MSE: 1477931.6840500517\n",
            "\n",
            "Feature importance: 0, Score: 16008.11219\n",
            "Feature importance: 1, Score: -251.16708\n",
            "Feature importance: 2, Score: 136.04820\n",
            "Feature importance: 3, Score: 146.23799\n",
            "Feature importance: 4, Score: -6281.38612\n",
            "Feature importance: 5, Score: -960.71374\n",
            "Feature importance: 6, Score: -1618.56634\n",
            "Feature importance: 7, Score: -159.09401\n",
            "Feature importance: 8, Score: 106.93609\n",
            "Feature importance: 9, Score: 3134.57358\n",
            "Feature importance: 10, Score: 52957.48202\n",
            "Feature importance: 11, Score: -6731.33882\n",
            "Feature importance: 12, Score: 3201.48498\n",
            "Feature importance: 13, Score: -147.76217\n",
            "Feature importance: 14, Score: -12563.42746\n",
            "Feature importance: 15, Score: -6117.16472\n",
            "Feature importance: 16, Score: 306.08034\n"
          ],
          "name": "stdout"
        },
        {
          "output_type": "display_data",
          "data": {
            "image/png": "[encoded data removed]",
            "text/plain": [
              "<Figure size 432x288 with 1 Axes>"
            ]
          },
          "metadata": {
            "tags": []
          }
        }
      ]
    },
    {
      "cell_type": "markdown",
      "metadata": {
        "id": "ujq92M55ObcI"
      },
      "source": [
        "**Seleção simples de atributos para novo teste com o modelo de Regressão Linear:**\n",
        "\n",
        "> A partir do resultado do cálculo da importância das features durante o treinamento do modelo Regressão Linear, as features que apresentaram scores de importância negativos foram retiradas dos conjuntos X de treino e teste.\n",
        "\n",
        "> As features que apresentaram correlação negativa em relação aos atributos formadores da variável alvo, na etapa de EDA, também foram retiradas.\n",
        "\n",
        "> **Assim, é possível observar que o modelo de regressão treinado com o novo conjunto de features apresentou métricas de acurácia superiores ao modelo anterior.**"
      ]
    },
    {
      "cell_type": "code",
      "metadata": {
        "colab": {
          "base_uri": "https://localhost:8080/",
          "height": 86
        },
        "id": "Qcbsiqo_PPGh",
        "outputId": "3cd02ab6-7a18-47a0-ab16-7bf6a9c4404d"
      },
      "source": [
        "#new_features = ['ACRES', 'ITER', 'OBJECTID', 'circular_variance', 'compactness', 'perimeter', 'weighted_convexity', 'eficiencia']\n",
        "new_features = ['ACRES', 'ITER', 'OBJECTID', 'circular_variance', 'perimeter', 'eficiencia']\n",
        "\n",
        "new_train_X=train_X[new_features]\n",
        "new_val_X=val_X[new_features]\n",
        "\n",
        "lr_model = LinearRegression()\n",
        "lr_model.fit(new_train_X, train_y) #treino\n",
        "#print(lr_model.score(train_X, train_y))\n",
        "\n",
        "lr_prediction=lr_model.predict(new_val_X) #predição\n",
        "\n",
        "calc_regression_metrics('Linear Regression', val_y, lr_prediction) #cálculo da acurácia da regressão linear"
      ],
      "execution_count": 395,
      "outputs": [
        {
          "output_type": "display_data",
          "data": {
            "application/vnd.google.colaboratory.intrinsic+json": {
              "type": "string"
            },
            "text/plain": [
              "'Linear Regression prediction | Regression metric:'"
            ]
          },
          "metadata": {
            "tags": []
          }
        },
        {
          "output_type": "stream",
          "text": [
            "r2: 0.7994148263706901\n",
            "MAE: 590.3559922788396\n",
            "MSE: 786193.5241199536\n"
          ],
          "name": "stdout"
        }
      ]
    },
    {
      "cell_type": "markdown",
      "metadata": {
        "id": "CNm4PPCIYJR9"
      },
      "source": [
        "**3) Random Forest algorithm**\n",
        "\n",
        "Teste com o algoritmo Random Forest utilizando o conjunto de features definido inicialmente. "
      ]
    },
    {
      "cell_type": "code",
      "metadata": {
        "colab": {
          "base_uri": "https://localhost:8080/",
          "height": 86
        },
        "id": "BemAHEv-XuMl",
        "outputId": "afbf605b-df41-442e-eab2-fd973dbabcdc"
      },
      "source": [
        "rf_model = RandomForestRegressor(n_estimators=100, random_state=376)\n",
        "rf_model.fit(train_X, train_y)\n",
        "#print(rf_model.score(train_X, train_y))\n",
        "\n",
        "rf_prediction=rf_model.predict(val_X) #predição\n",
        "\n",
        "calc_regression_metrics('Random Forest', val_y, rf_prediction) #cálculo da acurácia da rf"
      ],
      "execution_count": 396,
      "outputs": [
        {
          "output_type": "display_data",
          "data": {
            "application/vnd.google.colaboratory.intrinsic+json": {
              "type": "string"
            },
            "text/plain": [
              "'Random Forest prediction | Regression metric:'"
            ]
          },
          "metadata": {
            "tags": []
          }
        },
        {
          "output_type": "stream",
          "text": [
            "r2: 0.6821745494416025\n",
            "MAE: 774.461724137931\n",
            "MSE: 1245716.7521827586\n"
          ],
          "name": "stdout"
        }
      ]
    },
    {
      "cell_type": "markdown",
      "metadata": {
        "id": "UGpMzc6hJIXO"
      },
      "source": [
        "**4) Gradient Boosting algorithm for regression**\n",
        "\n",
        "Teste com o algoritmo Gradient Boosting utilizando o conjunto de features definido inicialmente. "
      ]
    },
    {
      "cell_type": "code",
      "metadata": {
        "colab": {
          "base_uri": "https://localhost:8080/",
          "height": 86
        },
        "id": "tEjuDDbBZOrW",
        "outputId": "ae5bf049-f245-45a9-adbe-dfa033f6fb54"
      },
      "source": [
        "gb_model = GradientBoostingRegressor(random_state=376)\n",
        "gb_model.fit(train_X, train_y)\n",
        "#print(xgb_model.score(train_X, train_y))\n",
        "\n",
        "gb_prediction=gb_model.predict(val_X) #predição\n",
        "\n",
        "calc_regression_metrics('Gradient Boosting', val_y, gb_prediction) #cálculo da acurácia do Gradient Boosting"
      ],
      "execution_count": 397,
      "outputs": [
        {
          "output_type": "display_data",
          "data": {
            "application/vnd.google.colaboratory.intrinsic+json": {
              "type": "string"
            },
            "text/plain": [
              "'Gradient Boosting prediction | Regression metric:'"
            ]
          },
          "metadata": {
            "tags": []
          }
        },
        {
          "output_type": "stream",
          "text": [
            "r2: 0.6733743010071397\n",
            "MAE: 766.20942807782\n",
            "MSE: 1280209.3231172757\n"
          ],
          "name": "stdout"
        }
      ]
    },
    {
      "cell_type": "markdown",
      "metadata": {
        "id": "3cW9M_zJsetA"
      },
      "source": [
        "# **Final remarks:**\n",
        "\n",
        "> Para finalizar o exercício, nota-se que através da utilização de modelos de ML é possível estimar o tempo que um pulverizador finalizará uma ordem de serviço. Porém, existem variáveis que se mostram mais relevantes do que outras, como as features *ACRES e perimeter*, e que devem ser melhor consideradas visando o aumento da acurácia dos modelos de ML.\n",
        "\n",
        "> Além disso, é necessário que ajustes mais finos sejam realizados para que as acurácias dos modelos e a qualidade das estimativas possam ser melhoradas. Por exemplo, é possível realizar um trabalho mais aprofundado de feature engineering e seleção de atributos visando selecionar features que descrevam de forma mais acertiva a variável resposta, cross-validation e otimização dos parâmetros do modelos de forma complementar."
      ]
    }
  ]
}